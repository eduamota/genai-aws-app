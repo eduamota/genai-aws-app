{
 "cells": [
  {
   "cell_type": "code",
   "execution_count": 2,
   "id": "e1159c3b",
   "metadata": {},
   "outputs": [],
   "source": [
    "import pypdf"
   ]
  },
  {
   "cell_type": "code",
   "execution_count": 6,
   "id": "a7e68143",
   "metadata": {},
   "outputs": [],
   "source": [
    "reader = pypdf.PdfReader('data/bulldozer-bd850-spec-sheet.pdf')"
   ]
  },
  {
   "cell_type": "code",
   "execution_count": 7,
   "id": "85114175",
   "metadata": {},
   "outputs": [
    {
     "name": "stdout",
     "output_type": "stream",
     "text": [
      "BD850 LARGE BULLDOZER\n",
      "Operating Weight: 87,100 kg / 192,000 lb Engine Power: 634 kW / 850 hp Blade Capacity: 27.2 mÂ³ / 35.6 ydÂ³\n",
      "The BD850 is equipped with a high-performance engine that meets the latest emission standards, designed for optimal\n",
      "performance and efficiency in demanding earthmoving operations.\n",
      "BUILT FOR POWER AND PRECISION\n",
      "The BD850 is engineered for heavy-duty earthmoving in large-scale construction and mining operations, offering\n",
      "exceptional pushing power, maneuverability, and operational efficiency. It's designed to move more material at the lowest\n",
      "cost per yard.\n",
      "KEY FEATURES\n",
      "12% INCREASE IN HORSEPOWER compared to previous model\n",
      "UP TO 8% IMPROVEMENT IN FUEL EFFICIENCY with advanced powertrain management system\n",
      "FUTURE-READY FOR SEMI-AUTONOMOUS OPERATION\n",
      "UP TO 10% LOWER MAINTENANCE AND REPAIR COSTS\n",
      "Extended service intervals\n",
      "Improved accessibility for maintenance\n",
      "Advanced onboard diagnostics\n",
      "Modular design for easier component replacement\n",
      "Continuous health monitoring system\n",
      "Over-the-air software updates\n",
      "THE RIGHT DOZER FOR YOUR OPERATION\n",
      "Introduced in 2024, the BD850 Large Bulldozer is designed for the most demanding applications in mining, heavy\n",
      "construction, and large-scale earthmoving projects. Its robust construction and advanced systems allow it to excel in\n",
      "various conditions, from extreme temperatures to high-altitude environments.\n",
      "A PROVEN DESIGN PHILOSOPHY\n"
     ]
    }
   ],
   "source": [
    "print(reader.pages[0].extract_text())"
   ]
  },
  {
   "cell_type": "code",
   "execution_count": 8,
   "id": "f8da017c",
   "metadata": {},
   "outputs": [],
   "source": [
    "text = reader.pages[0].extract_text()"
   ]
  },
  {
   "cell_type": "code",
   "execution_count": 9,
   "id": "b1ca1cf4",
   "metadata": {},
   "outputs": [],
   "source": [
    "import boto3"
   ]
  },
  {
   "cell_type": "code",
   "execution_count": 10,
   "id": "b87abb19",
   "metadata": {},
   "outputs": [],
   "source": [
    "client_runtime = boto3.client(\"bedrock-runtime\")"
   ]
  },
  {
   "cell_type": "code",
   "execution_count": 11,
   "id": "56801477",
   "metadata": {},
   "outputs": [],
   "source": [
    "system = [{ \"text\": \"You are an expert in heavy machinery and machine use for construction. You can explain machine spec information clearly and make it useful\" }]"
   ]
  },
  {
   "cell_type": "code",
   "execution_count": 12,
   "id": "6542accb",
   "metadata": {},
   "outputs": [],
   "source": [
    "messages = [\n",
    "    {\"role\": \"user\", \"content\": [{\"text\": f\"Give me a summary of the bulldozer based on the following data: {text}\"}]},\n",
    "]"
   ]
  },
  {
   "cell_type": "code",
   "execution_count": 13,
   "id": "d96843e3",
   "metadata": {},
   "outputs": [
    {
     "name": "stdout",
     "output_type": "stream",
     "text": [
      "[{'role': 'user', 'content': [{'text': \"Give me a summary of the bulldozer based on the following data: BD850 LARGE BULLDOZER\\nOperating Weight: 87,100 kg / 192,000 lb Engine Power: 634 kW / 850 hp Blade Capacity: 27.2 mÂ³ / 35.6 ydÂ³\\nThe BD850 is equipped with a high-performance engine that meets the latest emission standards, designed for optimal\\nperformance and efficiency in demanding earthmoving operations.\\nBUILT FOR POWER AND PRECISION\\nThe BD850 is engineered for heavy-duty earthmoving in large-scale construction and mining operations, offering\\nexceptional pushing power, maneuverability, and operational efficiency. It's designed to move more material at the lowest\\ncost per yard.\\nKEY FEATURES\\n12% INCREASE IN HORSEPOWER compared to previous model\\nUP TO 8% IMPROVEMENT IN FUEL EFFICIENCY with advanced powertrain management system\\nFUTURE-READY FOR SEMI-AUTONOMOUS OPERATION\\nUP TO 10% LOWER MAINTENANCE AND REPAIR COSTS\\nExtended service intervals\\nImproved accessibility for maintenance\\nAdvanced onboard diagnostics\\nModular design for easier component replacement\\nContinuous health monitoring system\\nOver-the-air software updates\\nTHE RIGHT DOZER FOR YOUR OPERATION\\nIntroduced in 2024, the BD850 Large Bulldozer is designed for the most demanding applications in mining, heavy\\nconstruction, and large-scale earthmoving projects. Its robust construction and advanced systems allow it to excel in\\nvarious conditions, from extreme temperatures to high-altitude environments.\\nA PROVEN DESIGN PHILOSOPHY\"}]}]\n"
     ]
    }
   ],
   "source": [
    "print(messages)"
   ]
  },
  {
   "cell_type": "code",
   "execution_count": 14,
   "id": "a9fc3fe1",
   "metadata": {},
   "outputs": [],
   "source": [
    "inf_params = {\"maxTokens\": 500, \"topP\": 0.3, \"temperature\": .4}"
   ]
  },
  {
   "cell_type": "code",
   "execution_count": 16,
   "id": "4389cfda",
   "metadata": {},
   "outputs": [],
   "source": [
    "modelId= 'us.amazon.nova-lite-v1:0'"
   ]
  },
  {
   "cell_type": "code",
   "execution_count": 17,
   "id": "c5ed42c1",
   "metadata": {},
   "outputs": [],
   "source": [
    "model_response = client_runtime.converse(\n",
    "    modelId=modelId, \n",
    "    messages=messages, \n",
    "    system=system, \n",
    "    inferenceConfig=inf_params\n",
    ")"
   ]
  },
  {
   "cell_type": "code",
   "execution_count": 18,
   "id": "b6396b0a",
   "metadata": {},
   "outputs": [],
   "source": [
    "from pprint import pprint"
   ]
  },
  {
   "cell_type": "code",
   "execution_count": 19,
   "id": "61e04a85",
   "metadata": {},
   "outputs": [
    {
     "name": "stdout",
     "output_type": "stream",
     "text": [
      "{'ResponseMetadata': {'HTTPHeaders': {'connection': 'keep-alive',\n",
      "                                      'content-length': '2463',\n",
      "                                      'content-type': 'application/json',\n",
      "                                      'date': 'Fri, 30 May 2025 02:10:09 GMT',\n",
      "                                      'x-amzn-requestid': '05cd18e5-e0c9-439d-9dea-082fef8ac221'},\n",
      "                      'HTTPStatusCode': 200,\n",
      "                      'RequestId': '05cd18e5-e0c9-439d-9dea-082fef8ac221',\n",
      "                      'RetryAttempts': 0},\n",
      " 'metrics': {'latencyMs': 2059},\n",
      " 'output': {'message': {'content': [{'text': '### Summary of the BD850 Large '\n",
      "                                             'Bulldozer\\n'\n",
      "                                             '\\n'\n",
      "                                             '**Overview:**\\n'\n",
      "                                             'The BD850 Large Bulldozer is a '\n",
      "                                             'state-of-the-art piece of heavy '\n",
      "                                             'machinery designed for '\n",
      "                                             'large-scale construction and '\n",
      "                                             'mining operations. It stands out '\n",
      "                                             'for its exceptional power, '\n",
      "                                             'efficiency, and advanced '\n",
      "                                             'technological features.\\n'\n",
      "                                             '\\n'\n",
      "                                             '**Key Specifications:**\\n'\n",
      "                                             '- **Operating Weight:** 87,100 '\n",
      "                                             'kg / 192,000 lb\\n'\n",
      "                                             '- **Engine Power:** 634 kW / 850 '\n",
      "                                             'hp\\n'\n",
      "                                             '- **Blade Capacity:** 27.2 m³ / '\n",
      "                                             '35.6 yd³\\n'\n",
      "                                             '\\n'\n",
      "                                             '**Performance and Design:**\\n'\n",
      "                                             '- **High-Performance Engine:** '\n",
      "                                             'The BD850 is equipped with a '\n",
      "                                             'powerful engine that meets the '\n",
      "                                             'latest emission standards, '\n",
      "                                             'ensuring optimal performance and '\n",
      "                                             'efficiency.\\n'\n",
      "                                             '- **Built for Power and '\n",
      "                                             'Precision:** Engineered for '\n",
      "                                             'heavy-duty earthmoving tasks, it '\n",
      "                                             'offers exceptional pushing '\n",
      "                                             'power, maneuverability, and '\n",
      "                                             'operational efficiency.\\n'\n",
      "                                             '- **Cost Efficiency:** Designed '\n",
      "                                             'to move more material at the '\n",
      "                                             'lowest cost per yard.\\n'\n",
      "                                             '\\n'\n",
      "                                             '**Key Features:**\\n'\n",
      "                                             '1. **Increased Horsepower:** A '\n",
      "                                             '12% increase in horsepower '\n",
      "                                             'compared to the previous model.\\n'\n",
      "                                             '2. **Improved Fuel Efficiency:** '\n",
      "                                             'Up to 8% improvement in fuel '\n",
      "                                             'efficiency thanks to an advanced '\n",
      "                                             'powertrain management system.\\n'\n",
      "                                             '3. **Future-Ready '\n",
      "                                             'Technology:** \\n'\n",
      "                                             '   - **Semi-Autonomous '\n",
      "                                             'Operation:** Future-ready with '\n",
      "                                             'capabilities for semi-autonomous '\n",
      "                                             'operation.\\n'\n",
      "                                             '   - **Reduced Maintenance '\n",
      "                                             'Costs:** Up to 10% lower '\n",
      "                                             'maintenance and repair costs.\\n'\n",
      "                                             '   - **Extended Service '\n",
      "                                             'Intervals:** Longer intervals '\n",
      "                                             'between maintenance checks.\\n'\n",
      "                                             '   - **Improved Accessibility:** '\n",
      "                                             'Easier access for maintenance '\n",
      "                                             'tasks.\\n'\n",
      "                                             '   - **Advanced Diagnostics:** '\n",
      "                                             'Onboard diagnostics for better '\n",
      "                                             'monitoring and maintenance.\\n'\n",
      "                                             '   - **Modular Design:** Easier '\n",
      "                                             'component replacement.\\n'\n",
      "                                             '   - **Health Monitoring:** '\n",
      "                                             'Continuous health monitoring '\n",
      "                                             'system.\\n'\n",
      "                                             '   - **Software Updates:** '\n",
      "                                             'Over-the-air software updates '\n",
      "                                             'for continuous improvement.\\n'\n",
      "                                             '\\n'\n",
      "                                             '**Operational Suitability:**\\n'\n",
      "                                             '- **Introduced in 2024:** The '\n",
      "                                             'BD850 is designed for the most '\n",
      "                                             'demanding applications in '\n",
      "                                             'mining, heavy construction, and '\n",
      "                                             'large-scale earthmoving '\n",
      "                                             'projects.\\n'\n",
      "                                             '- **Robust Construction:** Built '\n",
      "                                             'to handle extreme conditions, '\n",
      "                                             'including high temperatures and '\n",
      "                                             'high-altitude environments.\\n'\n",
      "                                             '- **Proven Design Philosophy:** '\n",
      "                                             'A reliable and proven design '\n",
      "                                             'that ensures durability and '\n",
      "                                             'performance in various '\n",
      "                                             'operational scenarios.\\n'\n",
      "                                             '\\n'\n",
      "                                             'The BD850 Large Bulldozer is an '\n",
      "                                             'ideal'}],\n",
      "                        'role': 'assistant'}},\n",
      " 'stopReason': 'max_tokens',\n",
      " 'usage': {'inputTokens': 379, 'outputTokens': 500, 'totalTokens': 879}}\n"
     ]
    }
   ],
   "source": [
    "pprint(model_response)"
   ]
  },
  {
   "cell_type": "code",
   "execution_count": 20,
   "id": "66a5c11c",
   "metadata": {},
   "outputs": [
    {
     "name": "stdout",
     "output_type": "stream",
     "text": [
      "### Summary of the BD850 Large Bulldozer\n",
      "\n",
      "**Overview:**\n",
      "The BD850 Large Bulldozer is a state-of-the-art piece of heavy machinery designed for large-scale construction and mining operations. It stands out for its exceptional power, efficiency, and advanced technological features.\n",
      "\n",
      "**Key Specifications:**\n",
      "- **Operating Weight:** 87,100 kg / 192,000 lb\n",
      "- **Engine Power:** 634 kW / 850 hp\n",
      "- **Blade Capacity:** 27.2 m³ / 35.6 yd³\n",
      "\n",
      "**Performance and Design:**\n",
      "- **High-Performance Engine:** The BD850 is equipped with a powerful engine that meets the latest emission standards, ensuring optimal performance and efficiency.\n",
      "- **Built for Power and Precision:** Engineered for heavy-duty earthmoving tasks, it offers exceptional pushing power, maneuverability, and operational efficiency.\n",
      "- **Cost Efficiency:** Designed to move more material at the lowest cost per yard.\n",
      "\n",
      "**Key Features:**\n",
      "1. **Increased Horsepower:** A 12% increase in horsepower compared to the previous model.\n",
      "2. **Improved Fuel Efficiency:** Up to 8% improvement in fuel efficiency thanks to an advanced powertrain management system.\n",
      "3. **Future-Ready Technology:** \n",
      "   - **Semi-Autonomous Operation:** Future-ready with capabilities for semi-autonomous operation.\n",
      "   - **Reduced Maintenance Costs:** Up to 10% lower maintenance and repair costs.\n",
      "   - **Extended Service Intervals:** Longer intervals between maintenance checks.\n",
      "   - **Improved Accessibility:** Easier access for maintenance tasks.\n",
      "   - **Advanced Diagnostics:** Onboard diagnostics for better monitoring and maintenance.\n",
      "   - **Modular Design:** Easier component replacement.\n",
      "   - **Health Monitoring:** Continuous health monitoring system.\n",
      "   - **Software Updates:** Over-the-air software updates for continuous improvement.\n",
      "\n",
      "**Operational Suitability:**\n",
      "- **Introduced in 2024:** The BD850 is designed for the most demanding applications in mining, heavy construction, and large-scale earthmoving projects.\n",
      "- **Robust Construction:** Built to handle extreme conditions, including high temperatures and high-altitude environments.\n",
      "- **Proven Design Philosophy:** A reliable and proven design that ensures durability and performance in various operational scenarios.\n",
      "\n",
      "The BD850 Large Bulldozer is an ideal\n"
     ]
    }
   ],
   "source": [
    "print(model_response[\"output\"][\"message\"][\"content\"][0][\"text\"])"
   ]
  },
  {
   "cell_type": "code",
   "execution_count": 21,
   "id": "f8d14c1b",
   "metadata": {},
   "outputs": [],
   "source": [
    "import csv"
   ]
  },
  {
   "cell_type": "code",
   "execution_count": 22,
   "id": "97467282",
   "metadata": {},
   "outputs": [],
   "source": [
    "with open(\"data/sample_operational.csv\", \"r\") as f:\n",
    "    operational_data = f.read()"
   ]
  },
  {
   "cell_type": "code",
   "execution_count": 23,
   "id": "948ef318",
   "metadata": {},
   "outputs": [
    {
     "name": "stdout",
     "output_type": "stream",
     "text": [
      "machine_id,operation_date,hours_operated,fuel_consumed_liters,idle_time_hours,material_moved_cubic_meters,maintenance_flag\n",
      "BD-001,2025-03-01,8.5,510.0,1.2,12500.0,FALSE\n",
      "BD-001,2025-03-02,9.0,540.0,1.3,13200.0,FALSE\n",
      "BD-001,2025-03-03,8.7,522.0,1.1,12800.0,FALSE\n",
      "BD-001,2025-03-04,7.5,450.0,1.0,11000.0,FALSE\n",
      "BD-001,2025-03-05,8.3,498.0,1.2,12200.0,FALSE\n",
      "BD-001,2025-03-06,8.8,528.0,1.3,12900.0,FALSE\n",
      "BD-001,2025-03-07,9.2,552.0,1.4,13500.0,FALSE\n",
      "BD-001,2025-03-08,0.0,0.0,0.0,0.0,TRUE\n",
      "BD-001,2025-03-09,0.0,0.0,0.0,0.0,TRUE\n",
      "BD-001,2025-03-10,8.5,510.0,1.1,12500.0,FALSE\n",
      "BD-001,2025-03-11,8.7,522.0,1.2,12800.0,FALSE\n",
      "BD-001,2025-03-12,8.9,534.0,1.3,13100.0,FALSE\n",
      "BD-001,2025-03-13,9.1,546.0,1.4,13400.0,FALSE\n",
      "BD-001,2025-03-14,8.8,528.0,1.3,12900.0,FALSE\n",
      "BD-001,2025-03-15,5.5,330.0,0.8,8100.0,FALSE\n",
      "BD-001,2025-03-16,0.0,0.0,0.0,0.0,FALSE\n",
      "BD-001,2025-03-17,8.6,516.0,1.2,12600.0,FALSE\n",
      "BD-001,2025-03-18,8.7,522.0,1.2,12800.0,FALSE\n",
      "BD-001,2025-03-19,8.9,534.0,1.3,13100.0,FALSE\n",
      "BD-001,2025-03-20,8.8,528.0,1.3,12900.0,FALSE\n",
      "BD-001,2025-03-21,8.5,510.0,1.2,12500.0,FALSE\n",
      "BD-001,2025-03-22,5.0,300.0,0.7,7350.0,FALSE\n",
      "BD-001,2025-03-23,0.0,0.0,0.0,0.0,FALSE\n",
      "BD-001,2025-03-24,8.7,522.0,1.2,12800.0,FALSE\n",
      "BD-001,2025-03-25,8.6,516.0,1.2,12600.0,FALSE\n",
      "BD-001,2025-03-26,8.5,510.0,1.2,12500.0,FALSE\n",
      "BD-001,2025-03-27,8.4,504.0,1.1,12300.0,FALSE\n",
      "BD-001,2025-03-28,8.6,516.0,1.2,12600.0,FALSE\n",
      "BD-001,2025-03-29,5.2,312.0,0.8,7640.0,FALSE\n",
      "BD-001,2025-03-30,0.0,0.0,0.0,0.0,FALSE\n",
      "BD-001,2025-03-31,8.8,528.0,1.3,12900.0,FALSE\n",
      "BD-001,2025-04-01,8.7,522.0,1.2,12800.0,FALSE\n",
      "BD-001,2025-04-02,8.9,534.0,1.3,13100.0,FALSE\n",
      "BD-001,2025-04-03,9.0,540.0,1.3,13200.0,FALSE\n",
      "BD-001,2025-04-04,8.8,528.0,1.3,12900.0,FALSE\n",
      "BD-001,2025-04-05,5.3,318.0,0.8,7790.0,FALSE\n",
      "BD-001,2025-04-06,0.0,0.0,0.0,0.0,FALSE\n",
      "BD-001,2025-04-07,8.5,510.0,1.2,12500.0,FALSE\n",
      "BD-001,2025-04-08,8.7,522.0,1.2,12800.0,FALSE\n",
      "BD-001,2025-04-09,8.6,516.0,1.2,12600.0,FALSE\n",
      "BD-001,2025-04-10,8.9,534.0,1.3,13100.0,FALSE\n",
      "BD-001,2025-04-11,8.7,522.0,1.2,12800.0,FALSE\n",
      "BD-001,2025-04-12,5.5,330.0,0.8,8100.0,FALSE\n",
      "BD-001,2025-04-13,0.0,0.0,0.0,0.0,FALSE\n",
      "BD-001,2025-04-14,8.8,528.0,1.3,12900.0,FALSE\n",
      "BD-001,2025-04-15,8.7,522.0,1.2,12800.0,FALSE\n",
      "BD-001,2025-04-16,0.0,0.0,0.0,0.0,TRUE\n",
      "BD-001,2025-04-17,0.0,0.0,0.0,0.0,TRUE\n",
      "BD-001,2025-04-18,8.5,510.0,1.2,12500.0,FALSE\n",
      "BD-001,2025-04-19,5.2,312.0,0.8,7640.0,FALSE\n",
      "BD-001,2025-04-20,0.0,0.0,0.0,0.0,FALSE\n",
      "BD-001,2025-04-21,8.6,516.0,1.2,12600.0,FALSE\n",
      "BD-001,2025-04-22,8.7,522.0,1.2,12800.0,FALSE\n",
      "BD-001,2025-04-23,8.9,534.0,1.3,13100.0,FALSE\n",
      "BD-001,2025-04-24,8.8,528.0,1.3,12900.0,FALSE\n",
      "BD-001,2025-04-25,8.7,522.0,1.2,12800.0,FALSE\n",
      "BD-001,2025-04-26,5.4,324.0,0.8,7940.0,FALSE\n",
      "BD-001,2025-04-27,0.0,0.0,0.0,0.0,FALSE\n",
      "BD-001,2025-04-28,8.6,516.0,1.2,12600.0,FALSE\n",
      "BD-001,2025-04-29,8.8,528.0,1.3,12900.0,FALSE\n",
      "BD-001,2025-04-30,8.7,522.0,1.2,12800.0,FALSE\n"
     ]
    }
   ],
   "source": [
    "print(operational_data)"
   ]
  },
  {
   "cell_type": "code",
   "execution_count": 24,
   "id": "001d1eb1",
   "metadata": {},
   "outputs": [],
   "source": [
    "system = [{ \"text\": \"You are an expert in heavy machinery and machine use for construction. You can explain machine spec information clearly and make it useful\" }]"
   ]
  },
  {
   "cell_type": "code",
   "execution_count": 37,
   "id": "d30b4862",
   "metadata": {},
   "outputs": [],
   "source": [
    "messages = [\n",
    "    {\"role\": \"user\", \"content\": [{\"text\": f\"\"\"Give me a peformance evaluation of the bulldozer based on the operational data. As well tell me any opportunities to improve the performance of the bulldozer.\n",
    "\n",
    "<operational_data>\n",
    "{operational_data}\n",
    "</operational_data>\n",
    "\n",
    "Give me the analysis in properly formatted JSON.\n",
    "\"\"\"}]},\n",
    "]"
   ]
  },
  {
   "cell_type": "code",
   "execution_count": 38,
   "id": "96e147e4",
   "metadata": {},
   "outputs": [],
   "source": [
    "inf_params = {\"maxTokens\": 500, \"topP\": 0.3, \"temperature\": .4}"
   ]
  },
  {
   "cell_type": "code",
   "execution_count": 39,
   "id": "d751770e",
   "metadata": {},
   "outputs": [],
   "source": [
    "model_response = client_runtime.converse(\n",
    "    modelId=modelId, \n",
    "    messages=messages, \n",
    "    system=system, \n",
    "    inferenceConfig=inf_params\n",
    ")"
   ]
  },
  {
   "cell_type": "code",
   "execution_count": 28,
   "id": "c6c45b47",
   "metadata": {},
   "outputs": [
    {
     "name": "stdout",
     "output_type": "stream",
     "text": [
      "### Analysis of the BD850 Large Bulldozer\n",
      "\n",
      "#### Specifications Overview\n",
      "\n",
      "**Model:** BD850 Large Bulldozer\n",
      "\n",
      "**Key Specifications:**\n",
      "- **Operating Weight:** 87,100 kg / 192,000 lb\n",
      "- **Engine Power:** 634 kW / 850 hp\n",
      "- **Blade Capacity:** 27.2 m³ / 35.6 yd³\n",
      "\n",
      "**Key Features:**\n",
      "- **12% Increase in Horsepower:** Compared to the previous model, the BD850 offers a significant boost in power.\n",
      "- **Up to 8% Improvement in Fuel Efficiency:** Advanced powertrain management system enhances fuel efficiency.\n",
      "- **Future-Ready for Semi-Autonomous Operation:** Equipped with technology for future autonomous capabilities.\n",
      "- **Up to 10% Lower Maintenance and Repair Costs:** Features such as extended service intervals, improved accessibility, advanced onboard diagnostics, and modular design contribute to reduced maintenance costs.\n",
      "- **Robust Construction:** Designed for demanding applications in mining, heavy construction, and large-scale earthmoving projects.\n",
      "\n",
      "#### Operational Data Analysis\n",
      "\n",
      "**Summary of Operational Data:**\n",
      "- **Total Hours Operated:** 142.5 hours\n",
      "- **Total Fuel Consumed:** 7,500 liters\n",
      "- **Average Hours Operated per Day:** 8.5 hours\n",
      "- **Average Fuel Consumption per Day:** 441.2 liters\n",
      "- **Average Material Moved per Day:** 12,687.5 cubic meters\n",
      "- **Average Idle Time per Day:** 1.2 hours\n",
      "\n",
      "**Detailed Analysis:**\n",
      "\n",
      "1. **Operational Hours and Fuel Consumption:**\n",
      "   - The bulldozer was operated for an average of 8.5 hours per day.\n",
      "   - The average fuel consumption per day was 441.2 liters.\n",
      "   - The fuel efficiency can be calculated as follows:\n",
      "     \\[\n",
      "     \\text{Fuel Efficiency} = \\frac{\\text{Material Moved}}{\\text{Fuel Consumed}} = \\frac{179,500 \\text{ cubic meters}}{7,500 \\text{ liters}} \\approx 23.93 \\text{ cubic meters per liter}\n",
      "     \\]\n",
      "   - This efficiency aligns with the manufacturer's claim of up to 8% improvement in fuel efficiency.\n",
      "\n",
      "\n"
     ]
    }
   ],
   "source": [
    "print(model_response[\"output\"][\"message\"][\"content\"][0][\"text\"])"
   ]
  },
  {
   "cell_type": "code",
   "execution_count": 32,
   "id": "88ed51ce",
   "metadata": {},
   "outputs": [
    {
     "name": "stdout",
     "output_type": "stream",
     "text": [
      "### Performance Evaluation of the BD850 Large Bulldozer\n",
      "\n",
      "#### Overview\n",
      "The BD850 Large Bulldozer is a high-performance machine designed for heavy-duty earthmoving operations in large-scale construction and mining projects. Based on the provided specifications and operational data, here is a detailed performance evaluation:\n",
      "\n",
      "#### Key Performance Metrics\n",
      "\n",
      "1. **Hours Operated and Material Moved**\n",
      "   - **Average Hours Operated per Day:** 8.5 hours\n",
      "   - **Total Hours Operated:** 127.5 hours over the observed period\n",
      "   - **Average Material Moved per Day:** 12,625 cubic meters\n",
      "   - **Total Material Moved:** 161,375 cubic meters over the observed period\n",
      "\n",
      "2. **Fuel Consumption**\n",
      "   - **Average Fuel Consumption per Hour:** 60 liters/hour\n",
      "   - **Average Fuel Consumption per Cubic Meter of Material Moved:** 0.042 liters/cubic meter\n",
      "   - **Total Fuel Consumed:** 6,798 liters over the observed period\n",
      "\n",
      "3. **Idle Time**\n",
      "   - **Average Idle Time per Day:** 1.2 hours\n",
      "   - **Total Idle Time:** 15.6 hours over the observed period\n",
      "\n",
      "#### Performance Analysis\n",
      "\n",
      "1. **Efficiency**\n",
      "   - **Material Moved per Hour:** 1,485 cubic meters/hour\n",
      "   - **Fuel Efficiency:** 0.042 liters/cubic meter of material moved\n",
      "   - The BD850 is performing well in terms of material moved per hour, which aligns with its design for moving large volumes of material efficiently.\n",
      "\n",
      "2. **Fuel Efficiency**\n",
      "   - **Fuel Consumption per Hour:** 60 liters/hour\n",
      "   - **Fuel Consumption per Cubic Meter:** 0.042 liters/cubic meter\n",
      "   - The fuel efficiency is slightly higher than the advertised 8% improvement over previous models, indicating good performance in fuel economy.\n",
      "\n",
      "3. **Idle Time**\n",
      "   - **Average Idle Time:** 1.2 hours/day\n",
      "   - Idle time is relatively low, suggesting that the bulldozer is being utilized effectively most of the time.\n",
      "\n",
      "#### Opportunities for Improvement\n",
      "\n",
      "1. **Reducing Idle Time**\n",
      "   - **Opportunity:** Further minimize idle time by optimizing work schedules and reducing downtime between tasks.\n",
      "   - **Action:** Implement better\n"
     ]
    }
   ],
   "source": [
    "print(model_response[\"output\"][\"message\"][\"content\"][0][\"text\"])"
   ]
  },
  {
   "cell_type": "code",
   "execution_count": 36,
   "id": "b17817e3",
   "metadata": {},
   "outputs": [
    {
     "name": "stdout",
     "output_type": "stream",
     "text": [
      "```json\n",
      "{\n",
      "  \"performance_evaluation\": {\n",
      "    \"average_hours_operated\": 7.9,\n",
      "    \"average_fuel_consumed_liters\": 494.5,\n",
      "    \"average_idle_time_hours\": 1.1,\n",
      "    \"average_material_moved_cubic_meters\": 12350.0,\n",
      "    \"fuel_efficiency_liters_per_hour\": 59.9,\n",
      "    \"material_moved_per_hour\": 1563.2,\n",
      "    \"maintenance_frequency\": 0.12,\n",
      "    \"maintenance_impact\": {\n",
      "      \"total_maintenance_hours\": 16.2,\n",
      "      \"average_material_moved_during_maintenance\": 0.0,\n",
      "      \"average_fuel_consumed_during_maintenance\": 0.0\n",
      "    }\n",
      "  },\n",
      "  \"opportunities_for_improvement\": [\n",
      "    {\n",
      "      \"opportunity\": \"Reduce idle time\",\n",
      "      \"details\": \"The average idle time is 1.1 hours per day. Reducing idle time can improve fuel efficiency and overall productivity.\"\n",
      "    },\n",
      "    {\n",
      "      \"opportunity\": \"Optimize fuel consumption\",\n",
      "      \"details\": \"The average fuel consumption is 494.5 liters per day. Implementing fuel-saving techniques and optimizing operational practices can help reduce fuel consumption.\"\n",
      "    },\n",
      "    {\n",
      "      \"opportunity\": \"Improve maintenance scheduling\",\n",
      "      \"details\": \"Maintenance is currently occurring at a frequency of approximately once every 8.3 days. Optimizing maintenance schedules to reduce downtime without compromising safety and performance can improve overall efficiency.\"\n",
      "    },\n",
      "    {\n",
      "      \"opportunity\": \"Enhance operator training\",\n",
      "      \"details\": \"Training operators on best practices for fuel efficiency and minimizing idle time can lead to better performance and cost savings.\"\n",
      "    },\n",
      "    {\n",
      "      \"opportunity\": \"Utilize advanced technologies\",\n",
      "      \"details\": \"Leveraging the bulldozer's advanced onboard diagnostics and continuous health monitoring system can help in predictive maintenance, reducing unexpected downtimes.\"\n",
      "    }\n",
      "  ]\n",
      "}\n",
      "```\n"
     ]
    }
   ],
   "source": [
    "print(model_response[\"output\"][\"message\"][\"content\"][0][\"text\"])"
   ]
  },
  {
   "cell_type": "code",
   "execution_count": 40,
   "id": "bc646e42",
   "metadata": {},
   "outputs": [
    {
     "name": "stdout",
     "output_type": "stream",
     "text": [
      "```json\n",
      "{\n",
      "  \"bulldozer_performance_evaluation\": {\n",
      "    \"machine_id\": \"BD-001\",\n",
      "    \"total_hours_operated\": 168.5,\n",
      "    \"total_fuel_consumed_liters\": 8400.0,\n",
      "    \"average_hours_operated_per_day\": 8.425,\n",
      "    \"average_fuel_consumed_per_hour\": 50.0,\n",
      "    \"average_idle_time_per_day\": 1.18,\n",
      "    \"average_material_moved_cubic_meters_per_day\": 12625.0,\n",
      "    \"maintenance_days\": 10,\n",
      "    \"performance_opportunities\": [\n",
      "      {\n",
      "        \"opportunity\": \"Reduce idle time\",\n",
      "        \"recommendation\": \"Implement idle reduction strategies such as automated shutdowns or operator training to minimize idle hours.\"\n",
      "      },\n",
      "      {\n",
      "        \"opportunity\": \"Optimize fuel consumption\",\n",
      "        \"recommendation\": \"Conduct a fuel efficiency audit and consider engine tuning or maintenance to reduce fuel consumption per hour.\"\n",
      "      },\n",
      "      {\n",
      "        \"opportunity\": \"Increase operational hours\",\n",
      "        \"recommendation\": \"Review scheduling and workload distribution to maximize operational hours while ensuring operator safety and machine health.\"\n",
      "      }\n",
      "    ]\n",
      "  }\n",
      "}\n",
      "```\n"
     ]
    }
   ],
   "source": [
    "print(model_response[\"output\"][\"message\"][\"content\"][0][\"text\"])"
   ]
  },
  {
   "cell_type": "code",
   "execution_count": null,
   "id": "883da08b",
   "metadata": {},
   "outputs": [],
   "source": []
  }
 ],
 "metadata": {
  "kernelspec": {
   "display_name": "aws-genai-app",
   "language": "python",
   "name": "python3"
  },
  "language_info": {
   "codemirror_mode": {
    "name": "ipython",
    "version": 3
   },
   "file_extension": ".py",
   "mimetype": "text/x-python",
   "name": "python",
   "nbconvert_exporter": "python",
   "pygments_lexer": "ipython3",
   "version": "3.12.9"
  }
 },
 "nbformat": 4,
 "nbformat_minor": 5
}
