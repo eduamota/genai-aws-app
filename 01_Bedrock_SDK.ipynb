{
 "cells": [
  {
   "cell_type": "code",
   "execution_count": 1,
   "id": "eebbbcbc",
   "metadata": {},
   "outputs": [],
   "source": [
    "import boto3"
   ]
  },
  {
   "cell_type": "code",
   "execution_count": 2,
   "id": "fa392fad",
   "metadata": {},
   "outputs": [],
   "source": [
    "client = boto3.client('bedrock')"
   ]
  },
  {
   "cell_type": "code",
   "execution_count": 7,
   "id": "8347f859",
   "metadata": {},
   "outputs": [],
   "source": [
    "response = client.list_foundation_models(\n",
    "        byProvider='Amazon',\n",
    "    byOutputModality='TEXT',\n",
    "    byInferenceType='ON_DEMAND'\n",
    ")"
   ]
  },
  {
   "cell_type": "code",
   "execution_count": 8,
   "id": "4a4a0a7a",
   "metadata": {},
   "outputs": [
    {
     "name": "stdout",
     "output_type": "stream",
     "text": [
      "{'ResponseMetadata': {'HTTPHeaders': {'connection': 'keep-alive',\n",
      "                                      'content-length': '4946',\n",
      "                                      'content-type': 'application/json',\n",
      "                                      'date': 'Wed, 28 May 2025 23:48:56 GMT',\n",
      "                                      'x-amzn-requestid': '3affda2f-233a-49e7-bb50-a34fc67d3c8d'},\n",
      "                      'HTTPStatusCode': 200,\n",
      "                      'RequestId': '3affda2f-233a-49e7-bb50-a34fc67d3c8d',\n",
      "                      'RetryAttempts': 0},\n",
      " 'modelSummaries': [{'customizationsSupported': [],\n",
      "                     'inferenceTypesSupported': ['ON_DEMAND'],\n",
      "                     'inputModalities': ['TEXT'],\n",
      "                     'modelArn': 'arn:aws:bedrock:us-east-1::foundation-model/amazon.titan-tg1-large',\n",
      "                     'modelId': 'amazon.titan-tg1-large',\n",
      "                     'modelLifecycle': {'status': 'ACTIVE'},\n",
      "                     'modelName': 'Titan Text Large',\n",
      "                     'outputModalities': ['TEXT'],\n",
      "                     'providerName': 'Amazon',\n",
      "                     'responseStreamingSupported': True},\n",
      "                    {'customizationsSupported': [],\n",
      "                     'inferenceTypesSupported': ['ON_DEMAND'],\n",
      "                     'inputModalities': ['TEXT'],\n",
      "                     'modelArn': 'arn:aws:bedrock:us-east-1::foundation-model/amazon.titan-text-premier-v1:0',\n",
      "                     'modelId': 'amazon.titan-text-premier-v1:0',\n",
      "                     'modelLifecycle': {'status': 'ACTIVE'},\n",
      "                     'modelName': 'Titan Text G1 - Premier',\n",
      "                     'outputModalities': ['TEXT'],\n",
      "                     'providerName': 'Amazon',\n",
      "                     'responseStreamingSupported': True},\n",
      "                    {'customizationsSupported': [],\n",
      "                     'inferenceTypesSupported': ['ON_DEMAND',\n",
      "                                                 'INFERENCE_PROFILE'],\n",
      "                     'inputModalities': ['TEXT', 'IMAGE', 'VIDEO'],\n",
      "                     'modelArn': 'arn:aws:bedrock:us-east-1::foundation-model/amazon.nova-pro-v1:0',\n",
      "                     'modelId': 'amazon.nova-pro-v1:0',\n",
      "                     'modelLifecycle': {'status': 'ACTIVE'},\n",
      "                     'modelName': 'Nova Pro',\n",
      "                     'outputModalities': ['TEXT'],\n",
      "                     'providerName': 'Amazon',\n",
      "                     'responseStreamingSupported': True},\n",
      "                    {'customizationsSupported': [],\n",
      "                     'inferenceTypesSupported': ['ON_DEMAND',\n",
      "                                                 'INFERENCE_PROFILE'],\n",
      "                     'inputModalities': ['TEXT', 'IMAGE', 'VIDEO'],\n",
      "                     'modelArn': 'arn:aws:bedrock:us-east-1::foundation-model/amazon.nova-lite-v1:0',\n",
      "                     'modelId': 'amazon.nova-lite-v1:0',\n",
      "                     'modelLifecycle': {'status': 'ACTIVE'},\n",
      "                     'modelName': 'Nova Lite',\n",
      "                     'outputModalities': ['TEXT'],\n",
      "                     'providerName': 'Amazon',\n",
      "                     'responseStreamingSupported': True},\n",
      "                    {'customizationsSupported': [],\n",
      "                     'inferenceTypesSupported': ['ON_DEMAND',\n",
      "                                                 'INFERENCE_PROFILE'],\n",
      "                     'inputModalities': ['TEXT'],\n",
      "                     'modelArn': 'arn:aws:bedrock:us-east-1::foundation-model/amazon.nova-micro-v1:0',\n",
      "                     'modelId': 'amazon.nova-micro-v1:0',\n",
      "                     'modelLifecycle': {'status': 'ACTIVE'},\n",
      "                     'modelName': 'Nova Micro',\n",
      "                     'outputModalities': ['TEXT'],\n",
      "                     'providerName': 'Amazon',\n",
      "                     'responseStreamingSupported': True},\n",
      "                    {'customizationsSupported': [],\n",
      "                     'inferenceTypesSupported': ['ON_DEMAND'],\n",
      "                     'inputModalities': ['SPEECH'],\n",
      "                     'modelArn': 'arn:aws:bedrock:us-east-1::foundation-model/amazon.nova-sonic-v1:0',\n",
      "                     'modelId': 'amazon.nova-sonic-v1:0',\n",
      "                     'modelLifecycle': {'status': 'ACTIVE'},\n",
      "                     'modelName': 'Nova Sonic',\n",
      "                     'outputModalities': ['SPEECH', 'TEXT'],\n",
      "                     'providerName': 'Amazon',\n",
      "                     'responseStreamingSupported': True},\n",
      "                    {'customizationsSupported': [],\n",
      "                     'inferenceTypesSupported': ['ON_DEMAND'],\n",
      "                     'inputModalities': ['TEXT'],\n",
      "                     'modelArn': 'arn:aws:bedrock:us-east-1::foundation-model/amazon.titan-text-lite-v1',\n",
      "                     'modelId': 'amazon.titan-text-lite-v1',\n",
      "                     'modelLifecycle': {'status': 'ACTIVE'},\n",
      "                     'modelName': 'Titan Text G1 - Lite',\n",
      "                     'outputModalities': ['TEXT'],\n",
      "                     'providerName': 'Amazon',\n",
      "                     'responseStreamingSupported': True},\n",
      "                    {'customizationsSupported': [],\n",
      "                     'inferenceTypesSupported': ['ON_DEMAND'],\n",
      "                     'inputModalities': ['TEXT'],\n",
      "                     'modelArn': 'arn:aws:bedrock:us-east-1::foundation-model/amazon.titan-text-express-v1',\n",
      "                     'modelId': 'amazon.titan-text-express-v1',\n",
      "                     'modelLifecycle': {'status': 'ACTIVE'},\n",
      "                     'modelName': 'Titan Text G1 - Express',\n",
      "                     'outputModalities': ['TEXT'],\n",
      "                     'providerName': 'Amazon',\n",
      "                     'responseStreamingSupported': True}]}\n"
     ]
    }
   ],
   "source": [
    "from pprint import pprint\n",
    "pprint(response)"
   ]
  },
  {
   "cell_type": "code",
   "execution_count": 9,
   "id": "6bcbac10",
   "metadata": {},
   "outputs": [],
   "source": [
    "modelArn= 'arn:aws:bedrock:us-east-1::foundation-model/amazon.nova-lite-v1:0'\n",
    "modelId= 'us.amazon.nova-lite-v1:0'"
   ]
  },
  {
   "cell_type": "code",
   "execution_count": 10,
   "id": "f0725d6a",
   "metadata": {},
   "outputs": [],
   "source": [
    "import json"
   ]
  },
  {
   "cell_type": "code",
   "execution_count": 11,
   "id": "a85625c0",
   "metadata": {},
   "outputs": [],
   "source": [
    "client_runtime = boto3.client(\"bedrock-runtime\")"
   ]
  },
  {
   "cell_type": "code",
   "execution_count": 12,
   "id": "8f85a7d1",
   "metadata": {},
   "outputs": [],
   "source": [
    "system = [{ \"text\": \"You are a helpful assistant\" }]"
   ]
  },
  {
   "cell_type": "code",
   "execution_count": null,
   "id": "4a0a86ef",
   "metadata": {},
   "outputs": [],
   "source": [
    "messages = [\n",
    "    {\"role\": \"user\", \"content\": [{\"text\": f\"Write a short story about dragons\"}]},\n",
    "]"
   ]
  },
  {
   "cell_type": "code",
   "execution_count": 14,
   "id": "36bd02c9",
   "metadata": {},
   "outputs": [],
   "source": [
    "inf_params = {\"maxTokens\": 300, \"topP\": 0.99, \"temperature\": 1}"
   ]
  },
  {
   "cell_type": "code",
   "execution_count": 15,
   "id": "c3eff69c",
   "metadata": {},
   "outputs": [],
   "source": [
    "model_response = client_runtime.converse(\n",
    "    modelId=modelId, \n",
    "    messages=messages, \n",
    "    system=system, \n",
    "    inferenceConfig=inf_params\n",
    ")\n"
   ]
  },
  {
   "cell_type": "code",
   "execution_count": 16,
   "id": "4472666f",
   "metadata": {},
   "outputs": [
    {
     "name": "stdout",
     "output_type": "stream",
     "text": [
      "{'ResponseMetadata': {'HTTPHeaders': {'connection': 'keep-alive',\n",
      "                                      'content-length': '1607',\n",
      "                                      'content-type': 'application/json',\n",
      "                                      'date': 'Thu, 29 May 2025 00:02:03 GMT',\n",
      "                                      'x-amzn-requestid': 'd90388c3-6ab6-40ec-84ee-d4cf5991b629'},\n",
      "                      'HTTPStatusCode': 200,\n",
      "                      'RequestId': 'd90388c3-6ab6-40ec-84ee-d4cf5991b629',\n",
      "                      'RetryAttempts': 0},\n",
      " 'metrics': {'latencyMs': 2047},\n",
      " 'output': {'message': {'content': [{'text': 'In the heart of the ancient '\n",
      "                                             'mountains, where the clouds '\n",
      "                                             'kissed the peaks and the rivers '\n",
      "                                             'sang their eternal songs, there '\n",
      "                                             'lay a hidden valley known as '\n",
      "                                             'Drakoria. This valley was unlike '\n",
      "                                             'any other, for it was the home '\n",
      "                                             'of the dragons, majestic '\n",
      "                                             'creatures of legend and lore.\\n'\n",
      "                                             '\\n'\n",
      "                                             'Among these dragons was a young '\n",
      "                                             'dragon named Elara, whose scales '\n",
      "                                             'shimmered like emeralds in the '\n",
      "                                             'sunlight. Unlike the other '\n",
      "                                             'dragons, who reveled in their '\n",
      "                                             'fiery breath and fierce prowess, '\n",
      "                                             'Elara had a gentle spirit and a '\n",
      "                                             'curiosity that knew no bounds. '\n",
      "                                             'She often ventured beyond the '\n",
      "                                             'valley, exploring the world '\n",
      "                                             'beyond the mountains.\\n'\n",
      "                                             '\\n'\n",
      "                                             'One day, while flying over a '\n",
      "                                             'lush forest, Elara heard the '\n",
      "                                             'cries of a village in distress. '\n",
      "                                             'A wicked sorcerer had cast a '\n",
      "                                             \"spell that turned the river's \"\n",
      "                                             'waters to poison, threatening '\n",
      "                                             'the lives of the villagers and '\n",
      "                                             'their livestock. The villagers, '\n",
      "                                             'desperate and afraid, had no '\n",
      "                                             'means to defend themselves.\\n'\n",
      "                                             '\\n'\n",
      "                                             'Elara, with her heart full of '\n",
      "                                             'compassion, swooped down to '\n",
      "                                             'investigate. She discovered the '\n",
      "                                             'sorcerer, a twisted man named '\n",
      "                                             'Malakar, who reveled in his dark '\n",
      "                                             'magic. Knowing she had to act, '\n",
      "                                             'Elara summoned her courage and '\n",
      "                                             'confronted him. \\n'\n",
      "                                             '\\n'\n",
      "                                             '\"Leave this village, Malakar,\" '\n",
      "                                             'she demanded, her voice echoing '\n",
      "                                             'with authority. \"Your magic '\n",
      "                                             'harms the land and its people.\"\\n'\n",
      "                                             '\\n'\n",
      "                                             'The sorcerer laughed, his eyes '\n",
      "                                             'gleaming with malice. \"I am a '\n",
      "                                             'force of nature, dragon. I bend '\n",
      "                                             'the world to my will.\"\\n'\n",
      "                                             '\\n'\n",
      "                                             'But Elara was undeterred. With'}],\n",
      "                        'role': 'assistant'}},\n",
      " 'stopReason': 'max_tokens',\n",
      " 'usage': {'inputTokens': 11, 'outputTokens': 300, 'totalTokens': 311}}\n"
     ]
    }
   ],
   "source": [
    "pprint(model_response)"
   ]
  },
  {
   "cell_type": "code",
   "execution_count": 17,
   "id": "d3b62e35",
   "metadata": {},
   "outputs": [
    {
     "name": "stdout",
     "output_type": "stream",
     "text": [
      "\n",
      "[Response Content Text]\n",
      "In the heart of the ancient mountains, where the clouds kissed the peaks and the rivers sang their eternal songs, there lay a hidden valley known as Drakoria. This valley was unlike any other, for it was the home of the dragons, majestic creatures of legend and lore.\n",
      "\n",
      "Among these dragons was a young dragon named Elara, whose scales shimmered like emeralds in the sunlight. Unlike the other dragons, who reveled in their fiery breath and fierce prowess, Elara had a gentle spirit and a curiosity that knew no bounds. She often ventured beyond the valley, exploring the world beyond the mountains.\n",
      "\n",
      "One day, while flying over a lush forest, Elara heard the cries of a village in distress. A wicked sorcerer had cast a spell that turned the river's waters to poison, threatening the lives of the villagers and their livestock. The villagers, desperate and afraid, had no means to defend themselves.\n",
      "\n",
      "Elara, with her heart full of compassion, swooped down to investigate. She discovered the sorcerer, a twisted man named Malakar, who reveled in his dark magic. Knowing she had to act, Elara summoned her courage and confronted him. \n",
      "\n",
      "\"Leave this village, Malakar,\" she demanded, her voice echoing with authority. \"Your magic harms the land and its people.\"\n",
      "\n",
      "The sorcerer laughed, his eyes gleaming with malice. \"I am a force of nature, dragon. I bend the world to my will.\"\n",
      "\n",
      "But Elara was undeterred. With\n"
     ]
    }
   ],
   "source": [
    "print(\"\\n[Response Content Text]\")\n",
    "print(model_response[\"output\"][\"message\"][\"content\"][0][\"text\"])"
   ]
  },
  {
   "cell_type": "code",
   "execution_count": 18,
   "id": "3213a7d6",
   "metadata": {},
   "outputs": [],
   "source": [
    "output_text = model_response[\"output\"][\"message\"][\"content\"][0][\"text\"]"
   ]
  },
  {
   "cell_type": "code",
   "execution_count": 19,
   "id": "8a926c6f",
   "metadata": {},
   "outputs": [
    {
     "name": "stdout",
     "output_type": "stream",
     "text": [
      "In the heart of the ancient mountains, where the clouds kissed the peaks and the rivers sang their eternal songs, there lay a hidden valley known as Drakoria. This valley was unlike any other, for it was the home of the dragons, majestic creatures of legend and lore.\n",
      "\n",
      "Among these dragons was a young dragon named Elara, whose scales shimmered like emeralds in the sunlight. Unlike the other dragons, who reveled in their fiery breath and fierce prowess, Elara had a gentle spirit and a curiosity that knew no bounds. She often ventured beyond the valley, exploring the world beyond the mountains.\n",
      "\n",
      "One day, while flying over a lush forest, Elara heard the cries of a village in distress. A wicked sorcerer had cast a spell that turned the river's waters to poison, threatening the lives of the villagers and their livestock. The villagers, desperate and afraid, had no means to defend themselves.\n",
      "\n",
      "Elara, with her heart full of compassion, swooped down to investigate. She discovered the sorcerer, a twisted man named Malakar, who reveled in his dark magic. Knowing she had to act, Elara summoned her courage and confronted him. \n",
      "\n",
      "\"Leave this village, Malakar,\" she demanded, her voice echoing with authority. \"Your magic harms the land and its people.\"\n",
      "\n",
      "The sorcerer laughed, his eyes gleaming with malice. \"I am a force of nature, dragon. I bend the world to my will.\"\n",
      "\n",
      "But Elara was undeterred. With\n"
     ]
    }
   ],
   "source": [
    "print(output_text)"
   ]
  },
  {
   "cell_type": "code",
   "execution_count": null,
   "id": "a808b686",
   "metadata": {},
   "outputs": [],
   "source": []
  }
 ],
 "metadata": {
  "kernelspec": {
   "display_name": "aws-genai-app",
   "language": "python",
   "name": "python3"
  },
  "language_info": {
   "codemirror_mode": {
    "name": "ipython",
    "version": 3
   },
   "file_extension": ".py",
   "mimetype": "text/x-python",
   "name": "python",
   "nbconvert_exporter": "python",
   "pygments_lexer": "ipython3",
   "version": "3.12.9"
  }
 },
 "nbformat": 4,
 "nbformat_minor": 5
}
